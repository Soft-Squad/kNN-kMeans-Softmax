{
 "cells": [
  {
   "cell_type": "code",
   "execution_count": 1,
   "id": "4f6820ce",
   "metadata": {},
   "outputs": [],
   "source": [
    "from torchvision import datasets  # Contains the CIFAR-10 Dataset\n",
    "from torchvision.transforms import ToTensor  # Tensor is used to encode the inputs and outputs\n",
    "import numpy as np\n",
    "import matplotlib.pyplot as plt     # Used to help visualize data\n",
    "import random"
   ]
  },
  {
   "cell_type": "markdown",
   "id": "b7d34255",
   "metadata": {},
   "source": [
    "# Downloading the CIFAR-10 Dataset"
   ]
  },
  {
   "cell_type": "code",
   "execution_count": 2,
   "id": "3ac57e3e",
   "metadata": {},
   "outputs": [
    {
     "name": "stdout",
     "output_type": "stream",
     "text": [
      "Files already downloaded and verified\n",
      "Files already downloaded and verified\n"
     ]
    }
   ],
   "source": [
    "train_dataset = datasets.CIFAR10(root='data/', download=True, train=True, transform=ToTensor())\n",
    "test_dataset = datasets.CIFAR10(root='data/', download=True, train=False, transform=ToTensor())"
   ]
  },
  {
   "cell_type": "markdown",
   "id": "4094a464",
   "metadata": {},
   "source": [
    "### Reshaping Dataset"
   ]
  },
  {
   "cell_type": "code",
   "execution_count": 3,
   "id": "a96e718c",
   "metadata": {},
   "outputs": [
    {
     "name": "stdout",
     "output_type": "stream",
     "text": [
      "Training Data Shape:  (50000, 32, 32, 3)\n",
      "Training Labels Shape:  (50000,)\n",
      "Test Data Shape:  (10000, 32, 32, 3)\n",
      "Test Labels Shape:  (10000,)\n",
      "Reshaped Training Data:  (50000, 3072)\n",
      "Reshaped Test Data:  (10000, 3072)\n"
     ]
    }
   ],
   "source": [
    "X_train = train_dataset.data\n",
    "y_train = np.array(train_dataset.targets)\n",
    "X_test = test_dataset.data\n",
    "y_test = np.array(test_dataset.targets)\n",
    "print(\"Training Data Shape: \", X_train.shape)\n",
    "print(\"Training Labels Shape: \", y_train.shape)\n",
    "print(\"Test Data Shape: \", X_test.shape)\n",
    "print(\"Test Labels Shape: \", y_test.shape)\n",
    "X_train = np.reshape(X_train, (X_train.shape[0], -1)).astype('float')\n",
    "X_test = np.reshape(X_test, (X_test.shape[0], -1)).astype('float')\n",
    "print(\"Reshaped Training Data: \", X_train.shape)\n",
    "print(\"Reshaped Test Data: \", X_test.shape)"
   ]
  },
  {
   "cell_type": "markdown",
   "id": "adc288af",
   "metadata": {},
   "source": [
    "# kNN"
   ]
  },
  {
   "cell_type": "code",
   "execution_count": 4,
   "id": "6a3f20e9",
   "metadata": {},
   "outputs": [],
   "source": [
    "def compute_distances(X_Train, X):\n",
    "    # Distances formula from: https://medium.com/@souravdey/l2-distance-matrix-vectorization-trick-26aa3247ac6c\n",
    "    distances = -2 * np.dot(X, X_Train.T) + np.sum(X_Train**2, axis=1) + np.sum(X**2, axis=1)[:, np.newaxis]\n",
    "    return distances\n",
    "\n",
    "\n",
    "def knn_predict(y_train, dists, k=3):\n",
    "    num_test = dists.shape[0]\n",
    "    y_pred = np.zeros(num_test)\n",
    "    for i in range(num_test):\n",
    "        closest_y = []\n",
    "        nearest_neighbor_ids = np.argsort(dists[i])\n",
    "        closest_y = list(y_train[nearest_neighbor_ids[:k]])\n",
    "        pass\n",
    "        y_pred[i] = (np.argmax(np.bincount(closest_y)))\n",
    "        pass\n",
    "    return y_pred\n",
    "\n",
    "\n",
    "def knn_accuracy(y_prediction, y_test, num_test):\n",
    "    correct = np.sum(y_prediction == y_test)\n",
    "    accuracy = (float(correct) / num_test) * 100\n",
    "    return accuracy    "
   ]
  },
  {
   "cell_type": "markdown",
   "id": "dee26ba8",
   "metadata": {},
   "source": [
    "### Performing kNN Cross-Validation"
   ]
  },
  {
   "cell_type": "code",
   "execution_count": 5,
   "id": "c774b888",
   "metadata": {},
   "outputs": [
    {
     "name": "stdout",
     "output_type": "stream",
     "text": [
      "5-Fold Accuracies for k: \n",
      "\n",
      "k = 3, Accuracy = 32.600000\n",
      "k = 3, Accuracy = 32.610000\n",
      "k = 3, Accuracy = 32.800000\n",
      "k = 3, Accuracy = 32.520000\n",
      "k = 3, Accuracy = 31.780000\n",
      "k = 5, Accuracy = 33.500000\n",
      "k = 5, Accuracy = 32.970000\n",
      "k = 5, Accuracy = 33.360000\n",
      "k = 5, Accuracy = 33.400000\n",
      "k = 5, Accuracy = 32.830000\n",
      "k = 7, Accuracy = 34.000000\n",
      "k = 7, Accuracy = 33.300000\n",
      "k = 7, Accuracy = 33.560000\n",
      "k = 7, Accuracy = 33.100000\n",
      "k = 7, Accuracy = 32.370000\n",
      "k = 11, Accuracy = 33.810000\n",
      "k = 11, Accuracy = 32.430000\n",
      "k = 11, Accuracy = 33.070000\n",
      "k = 11, Accuracy = 33.070000\n",
      "k = 11, Accuracy = 32.320000\n"
     ]
    }
   ],
   "source": [
    "num_test = X_test.shape[0]\n",
    "folds = 5\n",
    "k_list = [3, 5, 7, 11]\n",
    "\n",
    "X_train_folds = []\n",
    "y_train_folds = []\n",
    "\n",
    "X_train_folds = np.array_split(X_train, folds)\n",
    "y_train_folds = np.array_split(y_train, folds)\n",
    "k_accuracy = {}\n",
    "\n",
    "for k in k_list:\n",
    "    k_accuracy[k] = []\n",
    "    for k_num in range(0, folds):\n",
    "        X_test = X_train_folds[k_num]\n",
    "        y_test = y_train_folds[k_num]\n",
    "        X_train = X_train_folds\n",
    "        y_train = y_train_folds\n",
    "\n",
    "        tmp = np.delete(X_train, k_num, axis=0)\n",
    "        X_train = np.concatenate((tmp), axis=0)\n",
    "        y_train = np.delete(y_train, k_num, axis=0)\n",
    "        y_train = np.concatenate((y_train), axis=0)\n",
    "\n",
    "        distances = compute_distances(X_train, X_test)\n",
    "        prediction = knn_predict(y_train, distances, k)\n",
    "        \n",
    "        accuracy = knn_accuracy(prediction, y_test, num_test)\n",
    "        k_accuracy[k].append(accuracy)\n",
    "\n",
    "print(\"5-Fold Accuracies for k: \\n\")\n",
    "avgs = {}\n",
    "for k in sorted(k_accuracy):\n",
    "    row_avg = np.mean(k_accuracy[k])\n",
    "    avgs[k] = (row_avg)\n",
    "    for acc in k_accuracy[k]:\n",
    "        print(\"k = %d, Accuracy = %f\" % (k, acc))"
   ]
  },
  {
   "cell_type": "code",
   "execution_count": 6,
   "id": "e28478eb",
   "metadata": {},
   "outputs": [
    {
     "data": {
      "image/png": "[encoded data removed]",
      "text/plain": [
       "<Figure size 432x288 with 1 Axes>"
      ]
     },
     "metadata": {
      "needs_background": "light"
     },
     "output_type": "display_data"
    }
   ],
   "source": [
    "for k in k_list:\n",
    "    accs = k_accuracy[k]\n",
    "    plt.scatter([k] * len(accs), accs)\n",
    "\n",
    "accs_mean = np.array([np.mean(v) for k,v in sorted(k_accuracy.items())])\n",
    "plt.plot(k_list, accs_mean)\n",
    "plt.title('kNN Cross-Validation')\n",
    "plt.xlabel('k')\n",
    "plt.ylabel('Accuracy (%)')\n",
    "plt.show()"
   ]
  },
  {
   "cell_type": "markdown",
   "id": "72a8cdaf",
   "metadata": {},
   "source": [
    "### Best k from Average of Accuracies "
   ]
  },
  {
   "cell_type": "code",
   "execution_count": 7,
   "id": "10eff961",
   "metadata": {},
   "outputs": [
    {
     "name": "stdout",
     "output_type": "stream",
     "text": [
      "Best k = 7, Average Accuracy = 33.266000\n"
     ]
    }
   ],
   "source": [
    "best_k = max(avgs, key = avgs.get)\n",
    "all_avgs = avgs.values()\n",
    "max_avg = max(all_avgs)\n",
    "print(\"Best k = %d, Average Accuracy = %f\" % (best_k, max_avg))"
   ]
  },
  {
   "cell_type": "markdown",
   "id": "2a1c6dc8",
   "metadata": {},
   "source": [
    "# k-Means"
   ]
  },
  {
   "cell_type": "code",
   "execution_count": 4,
   "id": "0006a74c",
   "metadata": {},
   "outputs": [],
   "source": [
    "def init_centroids(X, k):\n",
    "    centroids = X[random.sample(range(X.shape[0]), k)]\n",
    "    return centroids\n",
    "\n",
    "\n",
    "def compute_centroid_dist(X, centroid):\n",
    "    dist = ((X - centroid) ** 2).sum(axis=X.ndim - 1)\n",
    "    return dist\n",
    "\n",
    "\n",
    "def closet_centroid(X, centroids):\n",
    "    dist = compute_centroid_dist(X, centroids)\n",
    "    return np.argmin(dist, axis=1)\n",
    "\n",
    "\n",
    "def kmeans_fit(X_train, X, centroids, k=3):\n",
    "    np.random.shuffle(X_train)      # Shuffles Data\n",
    "    np.random.seed(0)               # Set for reproducibility\n",
    " \n",
    "    a_centroids = np.zeros(len(X_train), dtype=np.int32)\n",
    "\n",
    "    for n in range(25):\n",
    "        a_centroids = closet_centroid(X_train[:, None, :], centroids[None, :, :])\n",
    "        for c in range(k):\n",
    "            cluster = X_train[a_centroids == c]\n",
    "            cluster = cluster.mean(axis=0)\n",
    "\n",
    "            centroids[c] = cluster\n",
    "\n",
    "    kmeans_y_pred = closet_centroid(X[:, None, :], centroids[None, :, :])\n",
    "    return kmeans_y_pred\n",
    "\n",
    "\n",
    "def kmeans_accuracy(y_pred, y_test, num_test):\n",
    "    correct = np.sum(y_pred == y_test)\n",
    "    accuracy = (float(correct) / num_test) * 100\n",
    "    return accuracy"
   ]
  },
  {
   "cell_type": "markdown",
   "id": "af0e7ff9",
   "metadata": {},
   "source": [
    "### Performing k-Means Cross-Validation"
   ]
  },
  {
   "cell_type": "code",
   "execution_count": 5,
   "id": "48bdf447",
   "metadata": {},
   "outputs": [
    {
     "name": "stdout",
     "output_type": "stream",
     "text": [
      "5-Fold Accuracies for k: \n",
      "\n",
      "k = 3, accuracy = 10.340000\n",
      "k = 3, accuracy = 10.670000\n",
      "k = 3, accuracy = 10.140000\n",
      "k = 3, accuracy = 10.320000\n",
      "k = 3, accuracy = 10.080000\n",
      "k = 5, accuracy = 8.160000\n",
      "k = 5, accuracy = 8.360000\n",
      "k = 5, accuracy = 8.720000\n",
      "k = 5, accuracy = 8.730000\n",
      "k = 5, accuracy = 8.300000\n",
      "k = 7, accuracy = 10.250000\n",
      "k = 7, accuracy = 10.910000\n",
      "k = 7, accuracy = 10.320000\n",
      "k = 7, accuracy = 10.950000\n",
      "k = 7, accuracy = 9.790000\n",
      "k = 11, accuracy = 7.310000\n",
      "k = 11, accuracy = 7.930000\n",
      "k = 11, accuracy = 8.160000\n",
      "k = 11, accuracy = 8.310000\n",
      "k = 11, accuracy = 8.630000\n"
     ]
    }
   ],
   "source": [
    "num_test = X_test.shape[0]\n",
    "km_folds = 5\n",
    "km_list = [3, 5, 7, 11]\n",
    "\n",
    "X_train_km_folds = []\n",
    "y_train_km_folds = []\n",
    "\n",
    "X_train_km_folds = np.array_split(X_train, km_folds)\n",
    "y_train_km_folds = np.array_split(y_train, km_folds)\n",
    "km_accuracy = {}\n",
    "\n",
    "for k in km_list:\n",
    "    centroids = init_centroids(X_train, k)\n",
    "    km_accuracy[k] = []\n",
    "    for k_num in range(0, km_folds):\n",
    "        X_test = X_train_km_folds[k_num]\n",
    "        y_test = y_train_km_folds[k_num]\n",
    "        X_train = X_train_km_folds\n",
    "        y_train = y_train_km_folds\n",
    "\n",
    "        tmp = np.delete(X_train, k_num, axis=0)\n",
    "        X_train = np.concatenate((tmp), axis=0)\n",
    "        y_train = np.delete(y_train, k_num, axis=0)\n",
    "        y_train = np.concatenate((y_train), axis=0)\n",
    "        \n",
    "        prediction = kmeans_fit(X_train, X_test, centroids, k)\n",
    "\n",
    "        accuracy = kmeans_accuracy(prediction, y_test, num_test)\n",
    "        km_accuracy[k].append(accuracy)\n",
    "\n",
    "print(\"5-Fold Accuracies for k: \\n\")\n",
    "km_avgs = {}\n",
    "for k in sorted(km_accuracy):\n",
    "    km_avg = np.mean(km_accuracy[k])\n",
    "    km_avgs[k] = (km_avg)\n",
    "    for acc in km_accuracy[k]:\n",
    "        print(\"k = %d, accuracy = %f\" % (k, acc))"
   ]
  },
  {
   "cell_type": "code",
   "execution_count": 6,
   "id": "b7b81112",
   "metadata": {},
   "outputs": [
    {
     "data": {
      "image/png": "[encoded data removed]",
      "text/plain": [
       "<Figure size 432x288 with 1 Axes>"
      ]
     },
     "metadata": {
      "needs_background": "light"
     },
     "output_type": "display_data"
    }
   ],
   "source": [
    "for k in km_list:\n",
    "    acxs = km_accuracy[k]\n",
    "    plt.scatter([k] * len(acxs), acxs)\n",
    "\n",
    "acxs_mean = np.array([np.mean(v) for k,v in sorted(km_accuracy.items())])\n",
    "plt.plot(km_list, acxs_mean)\n",
    "plt.title('k-Means Cross-Validation')\n",
    "plt.xlabel('k')\n",
    "plt.ylabel('Accuracy (%)')\n",
    "plt.show()"
   ]
  },
  {
   "cell_type": "code",
   "execution_count": 7,
   "id": "182cf012",
   "metadata": {},
   "outputs": [
    {
     "name": "stdout",
     "output_type": "stream",
     "text": [
      "Best k = 7, Average Accuracy = 10.444000\n"
     ]
    }
   ],
   "source": [
    "best_km = max(km_avgs, key = km_avgs.get)\n",
    "best_km_avgs = km_avgs.values()\n",
    "max_km_avg = max(best_km_avgs)\n",
    "print(\"Best k = %d, Average Accuracy = %f\" % (best_km, max_km_avg))"
   ]
  },
  {
   "cell_type": "markdown",
   "id": "f4f0294d",
   "metadata": {},
   "source": [
    "# Softmax"
   ]
  },
  {
   "cell_type": "markdown",
   "id": "386b43ed",
   "metadata": {},
   "source": [
    "### Normalize the Data and Add Bias Demension While Transforming into Columns"
   ]
  },
  {
   "cell_type": "code",
   "execution_count": 4,
   "id": "4366c6cd",
   "metadata": {},
   "outputs": [],
   "source": [
    "mean_image = np.mean(X_train, axis=0)\n",
    "X_train -= mean_image\n",
    "X_test -= mean_image\n",
    "\n",
    "# Add bias dimension and transform into columns\n",
    "X_train = np.hstack([X_train, np.ones((X_train.shape[0], 1))]).T\n",
    "X_test = np.hstack([X_test, np.ones((X_test.shape[0], 1))]).T"
   ]
  },
  {
   "cell_type": "markdown",
   "id": "38b85539",
   "metadata": {},
   "source": [
    "### Softmax Functions"
   ]
  },
  {
   "cell_type": "code",
   "execution_count": 5,
   "id": "5ebe071f",
   "metadata": {},
   "outputs": [],
   "source": [
    "def softmax_loss(W, X, y, regression):\n",
    "    f = np.dot(W, X)\n",
    "    f -= np.max(f, axis=0)\n",
    "    P = np.exp(f) / np.sum(np.exp(f), axis=0)       # Softmax\n",
    "    L = -1 / len(y) * np.sum(np.log(P[y, range(len(y))]))   # Cross-Entropy Loss\n",
    "    R = 0.5 * np.sum(np.multiply(W, W))\n",
    "\n",
    "    loss = L + R * regression       # Total loss\n",
    "\n",
    "    P[y, range(len(y))] -= 1\n",
    "    dW = 1 / len(y) * P.dot(X.T) + regression * W\n",
    "\n",
    "    return loss, dW\n",
    "\n",
    "\n",
    "def softmax_predict(W, X):\n",
    "    y = W.dot(X)\n",
    "    y_pred = np.argmax(y, axis=0)\n",
    "    return y_pred\n",
    "\n",
    "\n",
    "def softmax_accuracy(y_pred, y_test, num_test):\n",
    "    correct = np.sum(y_test == y_pred)\n",
    "    accuracy = (float(correct) / num_test) * 100\n",
    "    print(\"Correct: %d/%d\\nAccuracy: %f\" % (correct, num_test, accuracy))"
   ]
  },
  {
   "cell_type": "markdown",
   "id": "20b7d2b1",
   "metadata": {},
   "source": [
    "### Gradient Descent"
   ]
  },
  {
   "cell_type": "code",
   "execution_count": 6,
   "id": "a1c17870",
   "metadata": {},
   "outputs": [],
   "source": [
    "def softmax_fit(W, X, y, lr=1e-5, regression=1e-3):\n",
    "    _, N = X.shape\n",
    "    loss_history = []\n",
    "    for i in range(1000):\n",
    "        idx = np.random.choice(N, 256, replace=True)\n",
    "        X_batch = X[:, idx]\n",
    "        y_batch = y[idx]\n",
    "\n",
    "        loss, grad = softmax_loss(W, X_batch, y_batch, regression)\n",
    "        loss_history.append(loss)\n",
    "\n",
    "        W -= lr * grad\n",
    "\n",
    "    return loss_history"
   ]
  },
  {
   "cell_type": "markdown",
   "id": "6edef44e",
   "metadata": {},
   "source": [
    "### Performing Softmax"
   ]
  },
  {
   "cell_type": "code",
   "execution_count": 7,
   "id": "b8fe814e",
   "metadata": {},
   "outputs": [
    {
     "name": "stdout",
     "output_type": "stream",
     "text": [
      "Correct: 4063/10000\n",
      "Accuracy: 40.630000\n"
     ]
    }
   ],
   "source": [
    "W = np.random.randn(10, 3073) * 0.0001\n",
    "loss, grad = softmax_loss(W, X_train, y_train, 1e-5)\n",
    "\n",
    "loss_record = softmax_fit(W, X_train, y_train, lr=1e-6, regression=1e-4)\n",
    "\n",
    "y_test_pred = softmax_predict(W, X_test)\n",
    "\n",
    "num_test = X_test.shape[1]\n",
    "softmax_accuracy(y_test_pred, y_test, num_test)"
   ]
  },
  {
   "cell_type": "code",
   "execution_count": 8,
   "id": "bf3e3f5b",
   "metadata": {},
   "outputs": [
    {
     "data": {
      "image/png": "[encoded data removed]",
      "text/plain": [
       "<Figure size 432x288 with 1 Axes>"
      ]
     },
     "metadata": {
      "needs_background": "light"
     },
     "output_type": "display_data"
    }
   ],
   "source": [
    "plt.plot(loss_record)\n",
    "plt.xlabel('Iteration')\n",
    "plt.ylabel('Loss')\n",
    "plt.show()"
   ]
  }
 ],
 "metadata": {
  "kernelspec": {
   "display_name": "Python 3 (ipykernel)",
   "language": "python",
   "name": "python3"
  },
  "language_info": {
   "codemirror_mode": {
    "name": "ipython",
    "version": 3
   },
   "file_extension": ".py",
   "mimetype": "text/x-python",
   "name": "python",
   "nbconvert_exporter": "python",
   "pygments_lexer": "ipython3",
   "version": "3.9.7"
  }
 },
 "nbformat": 4,
 "nbformat_minor": 5
}
